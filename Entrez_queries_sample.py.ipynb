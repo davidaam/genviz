{
 "cells": [
  {
   "cell_type": "code",
   "execution_count": 2,
   "metadata": {},
   "outputs": [],
   "source": [
    "from Bio import Entrez\n",
    "from Bio import SeqIO\n",
    "Entrez.email = \"A.N.Other@example.com\""
   ]
  },
  {
   "cell_type": "code",
   "execution_count": 3,
   "metadata": {},
   "outputs": [],
   "source": [
    "handle = Entrez.esearch(term='cbs[gene]', db='nucleotide', idtype='acc')"
   ]
  },
  {
   "cell_type": "code",
   "execution_count": 4,
   "metadata": {},
   "outputs": [],
   "source": [
    "record = Entrez.read(handle)"
   ]
  },
  {
   "cell_type": "code",
   "execution_count": 11,
   "metadata": {},
   "outputs": [],
   "source": [
    "handle_genes = Entrez.esummary(id=','.join(record['IdList']), db='nucleotide', rettype='gb', retmode='text')"
   ]
  },
  {
   "cell_type": "code",
   "execution_count": 12,
   "metadata": {},
   "outputs": [],
   "source": [
    "x = Entrez.parse(handle_genes)"
   ]
  },
  {
   "cell_type": "code",
   "execution_count": 14,
   "metadata": {},
   "outputs": [
    {
     "name": "stdout",
     "output_type": "stream",
     "text": [
      "{'ReplacedBy': '', 'Gi': 1384960925, 'Id': '1384960925', 'Extra': 'gi|1384960925|ref|XM_014343187.2|[1384960925]', 'Status': 'live', 'Caption': 'XM_014343187', 'Item': [], 'Length': 2567, 'AccessionVersion': 'XM_014343187.2', 'Flags': 512, 'Title': 'PREDICTED: Pan paniscus cystathionine-beta-synthase (CBS), transcript variant X10, mRNA', 'Comment': '  ', 'TaxId': 9597, 'CreateDate': '2015/09/30', 'UpdateDate': '2018/05/01'}\n",
      "{'ReplacedBy': '', 'Gi': 1384960924, 'Id': '1384960924', 'Extra': 'gi|1384960924|ref|XM_008977581.3|[1384960924]', 'Status': 'live', 'Caption': 'XM_008977581', 'Item': [], 'Length': 2725, 'AccessionVersion': 'XM_008977581.3', 'Flags': 512, 'Title': 'PREDICTED: Pan paniscus cystathionine-beta-synthase (CBS), transcript variant X9, mRNA', 'Comment': '  ', 'TaxId': 9597, 'CreateDate': '2014/09/02', 'UpdateDate': '2018/05/01'}\n",
      "{'ReplacedBy': '', 'Gi': 1384960923, 'Id': '1384960923', 'Extra': 'gi|1384960923|ref|XM_003823862.4|[1384960923]', 'Status': 'live', 'Caption': 'XM_003823862', 'Item': [], 'Length': 2428, 'AccessionVersion': 'XM_003823862.4', 'Flags': 512, 'Title': 'PREDICTED: Pan paniscus cystathionine-beta-synthase (CBS), transcript variant X8, mRNA', 'Comment': '  ', 'TaxId': 9597, 'CreateDate': '2012/07/24', 'UpdateDate': '2018/05/01'}\n",
      "{'ReplacedBy': '', 'Gi': 1384960922, 'Id': '1384960922', 'Extra': 'gi|1384960922|ref|XM_008977575.3|[1384960922]', 'Status': 'live', 'Caption': 'XM_008977575', 'Item': [], 'Length': 3152, 'AccessionVersion': 'XM_008977575.3', 'Flags': 512, 'Title': 'PREDICTED: Pan paniscus cystathionine-beta-synthase (CBS), transcript variant X5, mRNA', 'Comment': '  ', 'TaxId': 9597, 'CreateDate': '2014/09/02', 'UpdateDate': '2018/05/01'}\n",
      "{'ReplacedBy': '', 'Gi': 1384960921, 'Id': '1384960921', 'Extra': 'gi|1384960921|ref|XM_014343186.2|[1384960921]', 'Status': 'live', 'Caption': 'XM_014343186', 'Item': [], 'Length': 2453, 'AccessionVersion': 'XM_014343186.2', 'Flags': 512, 'Title': 'PREDICTED: Pan paniscus cystathionine-beta-synthase (CBS), transcript variant X2, mRNA', 'Comment': '  ', 'TaxId': 9597, 'CreateDate': '2015/09/30', 'UpdateDate': '2018/05/01'}\n",
      "{'ReplacedBy': '', 'Gi': 1384960920, 'Id': '1384960920', 'Extra': 'gi|1384960920|ref|XM_014343185.2|[1384960920]', 'Status': 'live', 'Caption': 'XM_014343185', 'Item': [], 'Length': 2454, 'AccessionVersion': 'XM_014343185.2', 'Flags': 512, 'Title': 'PREDICTED: Pan paniscus cystathionine-beta-synthase (CBS), transcript variant X1, mRNA', 'Comment': '  ', 'TaxId': 9597, 'CreateDate': '2015/09/30', 'UpdateDate': '2018/05/01'}\n",
      "{'ReplacedBy': '', 'Gi': 931610144, 'Id': '931610144', 'Extra': 'gi|931610144|ref|XM_008977582.2|[931610144]', 'Status': 'live', 'Caption': 'XM_008977582', 'Item': [], 'Length': 2649, 'AccessionVersion': 'XM_008977582.2', 'Flags': 512, 'Title': 'PREDICTED: Pan paniscus cystathionine-beta-synthase (CBS), transcript variant X11, mRNA', 'Comment': '  ', 'TaxId': 9597, 'CreateDate': '2014/09/02', 'UpdateDate': '2018/05/01'}\n",
      "{'ReplacedBy': '', 'Gi': 931610139, 'Id': '931610139', 'Extra': 'gi|931610139|ref|XM_008977579.2|[931610139]', 'Status': 'live', 'Caption': 'XM_008977579', 'Item': [], 'Length': 2589, 'AccessionVersion': 'XM_008977579.2', 'Flags': 512, 'Title': 'PREDICTED: Pan paniscus cystathionine-beta-synthase (CBS), transcript variant X7, mRNA', 'Comment': '  ', 'TaxId': 9597, 'CreateDate': '2014/09/02', 'UpdateDate': '2018/05/01'}\n",
      "{'ReplacedBy': '', 'Gi': 931610138, 'Id': '931610138', 'Extra': 'gi|931610138|ref|XM_008977576.2|[931610138]', 'Status': 'live', 'Caption': 'XM_008977576', 'Item': [], 'Length': 2378, 'AccessionVersion': 'XM_008977576.2', 'Flags': 512, 'Title': 'PREDICTED: Pan paniscus cystathionine-beta-synthase (CBS), transcript variant X6, mRNA', 'Comment': '  ', 'TaxId': 9597, 'CreateDate': '2014/09/02', 'UpdateDate': '2018/05/01'}\n",
      "{'ReplacedBy': '', 'Gi': 931610136, 'Id': '931610136', 'Extra': 'gi|931610136|ref|XM_008977573.2|[931610136]', 'Status': 'live', 'Caption': 'XM_008977573', 'Item': [], 'Length': 2598, 'AccessionVersion': 'XM_008977573.2', 'Flags': 512, 'Title': 'PREDICTED: Pan paniscus cystathionine-beta-synthase (CBS), transcript variant X4, mRNA', 'Comment': '  ', 'TaxId': 9597, 'CreateDate': '2014/09/02', 'UpdateDate': '2018/05/01'}\n",
      "{'ReplacedBy': '', 'Gi': 931610135, 'Id': '931610135', 'Extra': 'gi|931610135|ref|XM_008977572.2|[931610135]', 'Status': 'live', 'Caption': 'XM_008977572', 'Item': [], 'Length': 2463, 'AccessionVersion': 'XM_008977572.2', 'Flags': 512, 'Title': 'PREDICTED: Pan paniscus cystathionine-beta-synthase (CBS), transcript variant X3, mRNA', 'Comment': '  ', 'TaxId': 9597, 'CreateDate': '2014/09/02', 'UpdateDate': '2018/05/01'}\n",
      "{'ReplacedBy': '', 'Gi': 930682162, 'Id': '930682162', 'Extra': 'gi|930682162|gnl|ASM:GCF_000258665|chr21|ref|NC_027889.1||gpp|GPC_000001906.1||gnl|NCBI_GENOMES|43068[930682162]', 'Status': 'live', 'Caption': 'NC_027889', 'Item': [], 'Length': 46275980, 'AccessionVersion': 'NC_027889.1', 'Flags': 544, 'Title': 'Pan paniscus isolate Ulindi chromosome 21, panpan1.1, whole genome shotgun sequence', 'Comment': '  ', 'TaxId': 9597, 'CreateDate': '2015/09/30', 'UpdateDate': '2018/05/01'}\n",
      "{'ReplacedBy': '', 'Gi': 1381790796, 'Id': '1381790796', 'Extra': 'gi|1381790796|emb|ONZG01000005.1|[1381790796]', 'Status': 'live', 'Caption': 'ONZG01000005', 'Item': [], 'Length': 377752, 'AccessionVersion': 'ONZG01000005.1', 'Flags': 0, 'Title': 'Tropicibacter mediterraneus M15O_3 strain CECT 7615 genome assembly, contig: 0005, whole genome shotgun sequence', 'Comment': '  ', 'TaxId': 1281900, 'CreateDate': '2018/04/24', 'UpdateDate': '2018/04/24'}\n",
      "{'ReplacedBy': '', 'Gi': 1381773625, 'Id': '1381773625', 'Extra': 'gi|1381773625|emb|OMOR01000001.1|[1381773625]', 'Status': 'live', 'Caption': 'OMOR01000001', 'Item': [], 'Length': 3729116, 'AccessionVersion': 'OMOR01000001.1', 'Flags': 0, 'Title': 'Ascidiaceihabitans donghaensis strain CECT 8599 genome assembly, contig: 0001, whole genome shotgun sequence', 'Comment': '  ', 'TaxId': 1510460, 'CreateDate': '2018/04/24', 'UpdateDate': '2018/04/24'}\n",
      "{'ReplacedBy': '', 'Gi': 1381771198, 'Id': '1381771198', 'Extra': 'gi|1381771198|emb|OMOJ01000003.1|[1381771198]', 'Status': 'live', 'Caption': 'OMOJ01000003', 'Item': [], 'Length': 350329, 'AccessionVersion': 'OMOJ01000003.1', 'Flags': 0, 'Title': 'Primorskyibacter insulae strain CECT 8871 genome assembly, contig: 0003, whole genome shotgun sequence', 'Comment': '  ', 'TaxId': 1695997, 'CreateDate': '2018/04/24', 'UpdateDate': '2018/04/24'}\n",
      "{'ReplacedBy': '', 'Gi': 1381763523, 'Id': '1381763523', 'Extra': 'gi|1381763523|emb|OMOI01000001.1|[1381763523]', 'Status': 'live', 'Caption': 'OMOI01000001', 'Item': [], 'Length': 2500797, 'AccessionVersion': 'OMOI01000001.1', 'Flags': 0, 'Title': 'Aliiroseovarius pelagivivens strain CECT 8811 genome assembly, contig: 0001, whole genome shotgun sequence', 'Comment': '  ', 'TaxId': 1639690, 'CreateDate': '2018/04/24', 'UpdateDate': '2018/04/24'}\n",
      "{'ReplacedBy': '', 'Gi': 1381486804, 'Id': '1381486804', 'Extra': 'gi|1381486804|ref|XM_024790021.1|[1381486804]', 'Status': 'live', 'Caption': 'XM_024790021', 'Item': [], 'Length': 2364, 'AccessionVersion': 'XM_024790021.1', 'Flags': 512, 'Title': 'PREDICTED: Macaca nemestrina cystathionine-beta-synthase (CBS), transcript variant X1, mRNA', 'Comment': '  ', 'TaxId': 9545, 'CreateDate': '2018/04/24', 'UpdateDate': '2018/04/24'}\n",
      "{'ReplacedBy': '', 'Gi': 795585988, 'Id': '795585988', 'Extra': 'gi|795585988|ref|XM_011725940.1|[795585988]', 'Status': 'live', 'Caption': 'XM_011725940', 'Item': [], 'Length': 2406, 'AccessionVersion': 'XM_011725940.1', 'Flags': 512, 'Title': 'PREDICTED: Macaca nemestrina cystathionine-beta-synthase (CBS), transcript variant X2, mRNA', 'Comment': '  ', 'TaxId': 9545, 'CreateDate': '2015/03/30', 'UpdateDate': '2018/04/24'}\n",
      "{'ReplacedBy': '', 'Gi': 778122825, 'Id': '778122825', 'Extra': 'gi|778122825|gnl|ASM:GCF_000956075.1|Scaffold5|ref|NW_012015021.1||gpp|GPS_008928968.1|[778122825]', 'Status': 'live', 'Caption': 'NW_012015021', 'Item': [], 'Length': 30496662, 'AccessionVersion': 'NW_012015021.1', 'Flags': 544, 'Title': 'Macaca nemestrina isolate M95218 unplaced genomic scaffold, Mnem_1.0 Scaffold5, whole genome shotgun sequence', 'Comment': '  ', 'TaxId': 9545, 'CreateDate': '2015/03/30', 'UpdateDate': '2018/04/24'}\n",
      "{'ReplacedBy': '', 'Gi': 1378882050, 'Id': '1378882050', 'Extra': 'gi|1378882050|ref|XM_024758444.1|[1378882050]', 'Status': 'live', 'Caption': 'XM_024758444', 'Item': [], 'Length': 2505, 'AccessionVersion': 'XM_024758444.1', 'Flags': 512, 'Title': 'PREDICTED: Neophocaena asiaeorientalis asiaeorientalis cystathionine-beta-synthase (CBS), mRNA', 'Comment': '  ', 'TaxId': 1706337, 'CreateDate': '2018/04/18', 'UpdateDate': '2018/04/18'}\n"
     ]
    }
   ],
   "source": [
    "for r in x:\n",
    "    print(r)"
   ]
  },
  {
   "cell_type": "code",
   "execution_count": null,
   "metadata": {},
   "outputs": [],
   "source": []
  }
 ],
 "metadata": {
  "kernelspec": {
   "display_name": "Python 3",
   "language": "python",
   "name": "python3"
  },
  "language_info": {
   "codemirror_mode": {
    "name": "ipython",
    "version": 3
   },
   "file_extension": ".py",
   "mimetype": "text/x-python",
   "name": "python",
   "nbconvert_exporter": "python",
   "pygments_lexer": "ipython3",
   "version": "3.5.2"
  }
 },
 "nbformat": 4,
 "nbformat_minor": 2
}
